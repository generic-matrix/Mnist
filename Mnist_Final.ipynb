{
  "nbformat": 4,
  "nbformat_minor": 0,
  "metadata": {
    "colab": {
      "provenance": []
    },
    "kernelspec": {
      "name": "python3",
      "display_name": "Python 3"
    },
    "language_info": {
      "name": "python"
    },
    "accelerator": "GPU",
    "gpuClass": "standard"
  },
  "cells": [
    {
      "cell_type": "markdown",
      "source": [
        "**Importing the dependencies**"
      ],
      "metadata": {
        "id": "BQtOSgaIoHfz"
      }
    },
    {
      "cell_type": "code",
      "execution_count": 7,
      "metadata": {
        "id": "KyRzP9ALnral"
      },
      "outputs": [],
      "source": [
        "import tensorflow as tf\n",
        "from keras.applications import VGG19\n",
        "from keras.models import Sequential\n",
        "from keras.layers import Conv2D, MaxPooling2D,Dense,Activation,Dropout,Flatten,BatchNormalization\n",
        "from keras.optimizers import Adam,SGD\n",
        "from tensorflow.keras.callbacks import TensorBoard, ModelCheckpoint"
      ]
    },
    {
      "cell_type": "markdown",
      "source": [
        "**Init Kaggle API**"
      ],
      "metadata": {
        "id": "bWpaHZYpoQFC"
      }
    },
    {
      "cell_type": "code",
      "source": [
        "!mkdir ~/.kaggle\n",
        "!touch ~/.kaggle/kaggle.json\n",
        "\n",
        "api_token = {\"username\":\"<username>\",\"key\":\"<password>\"}\n",
        "\n",
        "import json\n",
        "\n",
        "with open('/root/.kaggle/kaggle.json', 'w') as file:\n",
        "    json.dump(api_token, file)\n",
        "\n",
        "!chmod 600 ~/.kaggle/kaggle.json"
      ],
      "metadata": {
        "id": "pn2JNJ1voPRT"
      },
      "execution_count": 2,
      "outputs": []
    },
    {
      "cell_type": "code",
      "source": [
        "! kaggle datasets download -d sagyamthapa/handwritten-math-symbols"
      ],
      "metadata": {
        "colab": {
          "base_uri": "https://localhost:8080/"
        },
        "id": "Gxx9bXrPoSyz",
        "outputId": "459d864b-be48-4679-e06a-5670530b77e3"
      },
      "execution_count": 3,
      "outputs": [
        {
          "output_type": "stream",
          "name": "stdout",
          "text": [
            "Downloading handwritten-math-symbols.zip to /content\n",
            "100% 39.4M/39.4M [00:02<00:00, 22.0MB/s]\n",
            "100% 39.4M/39.4M [00:02<00:00, 14.2MB/s]\n"
          ]
        }
      ]
    },
    {
      "cell_type": "code",
      "source": [
        "!unzip handwritten-math-symbols"
      ],
      "metadata": {
        "id": "gGFJmlNCoZbz"
      },
      "execution_count": null,
      "outputs": []
    },
    {
      "cell_type": "markdown",
      "source": [
        "**98% for the training and 2% for testing**"
      ],
      "metadata": {
        "id": "KmkAw0V1pP86"
      }
    },
    {
      "cell_type": "code",
      "source": [
        "train_datagen=tf.keras.preprocessing.image.ImageDataGenerator( rescale=1./255.,\n",
        "                                  horizontal_flip = False,\n",
        "                                  #Setting validation split to 2% \n",
        "                                  validation_split=0.02 \n",
        ")\n",
        "\n",
        "train_dir = \"/content/dataset/\"\n",
        "IMAGE_SIZE = 50\n",
        "BATCH_SIZE = 64\n",
        "\n",
        "train_generator=train_datagen.flow_from_directory(\n",
        "  train_dir,\n",
        "  subset=\"training\",\n",
        "  target_size=(IMAGE_SIZE, IMAGE_SIZE),\n",
        "  class_mode=\"categorical\",\n",
        "  color_mode=\"grayscale\",\n",
        "  batch_size=BATCH_SIZE\n",
        ")\n",
        "\n",
        "test_generator=train_datagen.flow_from_directory(\n",
        "  train_dir,\n",
        "  subset=\"validation\",\n",
        "  target_size=(IMAGE_SIZE, IMAGE_SIZE),\n",
        "  class_mode=\"categorical\",\n",
        "  color_mode=\"grayscale\",\n",
        "  batch_size=BATCH_SIZE\n",
        ")\n"
      ],
      "metadata": {
        "colab": {
          "base_uri": "https://localhost:8080/"
        },
        "id": "NhBV6yl5ob1D",
        "outputId": "f0c1ad69-ba46-4582-f734-00ab9e5bafd7"
      },
      "execution_count": 5,
      "outputs": [
        {
          "output_type": "stream",
          "name": "stdout",
          "text": [
            "Found 9880 images belonging to 19 classes.\n",
            "Found 191 images belonging to 19 classes.\n"
          ]
        }
      ]
    },
    {
      "cell_type": "markdown",
      "source": [
        "**Create the model**"
      ],
      "metadata": {
        "id": "SlX-PW-lprRA"
      }
    },
    {
      "cell_type": "code",
      "source": [
        "from keras.utils.np_utils import to_categorical\n",
        "from keras.models import Sequential\n",
        "from keras.layers import Dense,Dropout,Flatten,Conv2D,MaxPool2D\n",
        "from keras.optimizers import Adam\n",
        "from keras.preprocessing.image import ImageDataGenerator\n",
        "\n",
        "from keras.callbacks import ReduceLROnPlateau\n",
        "\n",
        "\n",
        "model = Sequential()\n",
        "model.add(Conv2D(32,(3,3),input_shape =(IMAGE_SIZE,IMAGE_SIZE,1)))\n",
        "model.add(Activation(\"relu\"))\n",
        "model.add(MaxPooling2D())\n",
        "\n",
        "model.add(Conv2D(32,(3,3)))\n",
        "model.add(Activation(\"relu\"))\n",
        "model.add(MaxPooling2D())\n",
        "\n",
        "model.add(Conv2D(64,(3,3)))\n",
        "model.add(Activation(\"relu\"))\n",
        "model.add(MaxPooling2D())\n",
        "\n",
        "model.add(Flatten())\n",
        "model.add(Dense(1024))\n",
        "model.add(Activation(\"relu\"))\n",
        "model.add(Dropout(0.5))\n",
        "model.add(Dense(19)) # output\n",
        "model.add(Activation(\"softmax\"))\n",
        "\n",
        "model.compile(loss = \"categorical_crossentropy\",\n",
        "              optimizer = \"rmsprop\",\n",
        "              metrics = [\"accuracy\"])\n",
        "\n",
        "model.summary()"
      ],
      "metadata": {
        "colab": {
          "base_uri": "https://localhost:8080/"
        },
        "id": "V9iffMDtptaA",
        "outputId": "5ecb7187-a3ab-49c1-df4c-b89c23bc9ef6"
      },
      "execution_count": 8,
      "outputs": [
        {
          "output_type": "stream",
          "name": "stdout",
          "text": [
            "Model: \"sequential_1\"\n",
            "_________________________________________________________________\n",
            " Layer (type)                Output Shape              Param #   \n",
            "=================================================================\n",
            " conv2d_1 (Conv2D)           (None, 48, 48, 32)        320       \n",
            "                                                                 \n",
            " activation (Activation)     (None, 48, 48, 32)        0         \n",
            "                                                                 \n",
            " max_pooling2d (MaxPooling2D  (None, 24, 24, 32)       0         \n",
            " )                                                               \n",
            "                                                                 \n",
            " conv2d_2 (Conv2D)           (None, 22, 22, 32)        9248      \n",
            "                                                                 \n",
            " activation_1 (Activation)   (None, 22, 22, 32)        0         \n",
            "                                                                 \n",
            " max_pooling2d_1 (MaxPooling  (None, 11, 11, 32)       0         \n",
            " 2D)                                                             \n",
            "                                                                 \n",
            " conv2d_3 (Conv2D)           (None, 9, 9, 64)          18496     \n",
            "                                                                 \n",
            " activation_2 (Activation)   (None, 9, 9, 64)          0         \n",
            "                                                                 \n",
            " max_pooling2d_2 (MaxPooling  (None, 4, 4, 64)         0         \n",
            " 2D)                                                             \n",
            "                                                                 \n",
            " flatten (Flatten)           (None, 1024)              0         \n",
            "                                                                 \n",
            " dense (Dense)               (None, 1024)              1049600   \n",
            "                                                                 \n",
            " activation_3 (Activation)   (None, 1024)              0         \n",
            "                                                                 \n",
            " dropout (Dropout)           (None, 1024)              0         \n",
            "                                                                 \n",
            " dense_1 (Dense)             (None, 19)                19475     \n",
            "                                                                 \n",
            " activation_4 (Activation)   (None, 19)                0         \n",
            "                                                                 \n",
            "=================================================================\n",
            "Total params: 1,097,139\n",
            "Trainable params: 1,097,139\n",
            "Non-trainable params: 0\n",
            "_________________________________________________________________\n"
          ]
        }
      ]
    },
    {
      "cell_type": "markdown",
      "source": [
        "**Train the model**"
      ],
      "metadata": {
        "id": "GL1q6RsIpx1o"
      }
    },
    {
      "cell_type": "code",
      "source": [
        "\n",
        "epochs = 10\n",
        "\n",
        "checkpoint = ModelCheckpoint('model.{epoch:02d}-{val_loss:.2f}.h5',\n",
        "                             monitor='val_loss',\n",
        "                             verbose=0,\n",
        "                             save_best_only=True,\n",
        "                             mode='auto')\n",
        "\n",
        "history = model.fit(train_generator, \n",
        "                    steps_per_epoch=len(train_generator), \n",
        "                    epochs=epochs, \n",
        "                    validation_data=test_generator, \n",
        "                    validation_steps=len(test_generator),\n",
        "                    callbacks=[checkpoint])\n",
        "     "
      ],
      "metadata": {
        "colab": {
          "base_uri": "https://localhost:8080/"
        },
        "id": "7C-eM00up0Xv",
        "outputId": "2bb913a2-512c-4524-cf94-dc286e377f6e"
      },
      "execution_count": 9,
      "outputs": [
        {
          "output_type": "stream",
          "name": "stdout",
          "text": [
            "Epoch 1/10\n",
            "155/155 [==============================] - 25s 83ms/step - loss: 1.7372 - accuracy: 0.4767 - val_loss: 0.8233 - val_accuracy: 0.7696\n",
            "Epoch 2/10\n",
            "155/155 [==============================] - 12s 80ms/step - loss: 0.6866 - accuracy: 0.7934 - val_loss: 0.5515 - val_accuracy: 0.8482\n",
            "Epoch 3/10\n",
            "155/155 [==============================] - 12s 79ms/step - loss: 0.3892 - accuracy: 0.8814 - val_loss: 0.3490 - val_accuracy: 0.9005\n",
            "Epoch 4/10\n",
            "155/155 [==============================] - 12s 79ms/step - loss: 0.2677 - accuracy: 0.9170 - val_loss: 0.2792 - val_accuracy: 0.9162\n",
            "Epoch 5/10\n",
            "155/155 [==============================] - 12s 78ms/step - loss: 0.1912 - accuracy: 0.9436 - val_loss: 0.2085 - val_accuracy: 0.9319\n",
            "Epoch 6/10\n",
            "155/155 [==============================] - 12s 80ms/step - loss: 0.1465 - accuracy: 0.9515 - val_loss: 0.1991 - val_accuracy: 0.9424\n",
            "Epoch 7/10\n",
            "155/155 [==============================] - 12s 79ms/step - loss: 0.1085 - accuracy: 0.9660 - val_loss: 0.1680 - val_accuracy: 0.9476\n",
            "Epoch 8/10\n",
            "155/155 [==============================] - 12s 79ms/step - loss: 0.0880 - accuracy: 0.9706 - val_loss: 0.1737 - val_accuracy: 0.9581\n",
            "Epoch 9/10\n",
            "155/155 [==============================] - 12s 79ms/step - loss: 0.0745 - accuracy: 0.9772 - val_loss: 0.1913 - val_accuracy: 0.9476\n",
            "Epoch 10/10\n",
            "155/155 [==============================] - 12s 79ms/step - loss: 0.0574 - accuracy: 0.9808 - val_loss: 0.2443 - val_accuracy: 0.9424\n"
          ]
        }
      ]
    },
    {
      "cell_type": "markdown",
      "source": [
        "**Show the scores**"
      ],
      "metadata": {
        "id": "9RwXskonqLBP"
      }
    },
    {
      "cell_type": "code",
      "source": [
        "import matplotlib.pyplot as plt\n",
        "\n",
        "def display_training_curves(training, validation, title, subplot):\n",
        "    if subplot%10==1: # set up the subplots on the first call\n",
        "        plt.subplots(figsize=(10,10), facecolor='#F0F0F0')\n",
        "        plt.tight_layout()\n",
        "    ax = plt.subplot(subplot)\n",
        "    ax.set_facecolor('#F8F8F8')\n",
        "    ax.plot(training)\n",
        "    ax.plot(validation)\n",
        "    ax.set_title('MODEL '+ title)\n",
        "    ax.set_ylabel(title)\n",
        "    ax.set_xlabel('epoch')\n",
        "    ax.legend(['train', 'valid.'])\n",
        "\n",
        "display_training_curves(\n",
        "    history.history['accuracy'],\n",
        "    history.history['val_accuracy'],\n",
        "    'ACCURACY',\n",
        "    212,\n",
        ")\n",
        "    \n",
        "\n",
        "display_training_curves(\n",
        "    history.history['loss'],\n",
        "    history.history['val_loss'],\n",
        "    'LOSS',\n",
        "    211,\n",
        ")  \n",
        "\n",
        "score = model.evaluate(train_generator,batch_size=32)\n",
        "print(\"Accuracy: {:.2f}%\".format(score[1] * 100)) \n",
        "print(\"Loss: \",score[0])\n",
        "\n",
        "score = model.evaluate(test_generator,batch_size=32)\n",
        "print(\"Accuracy: {:.2f}%\".format(score[1] * 100)) \n",
        "print(\"Loss: \",score[0])"
      ],
      "metadata": {
        "colab": {
          "base_uri": "https://localhost:8080/",
          "height": 930
        },
        "id": "zqCAQTQ8qKD3",
        "outputId": "7e2aa7c5-03ef-4433-93e5-c060c1ee833f"
      },
      "execution_count": 10,
      "outputs": [
        {
          "output_type": "stream",
          "name": "stderr",
          "text": [
            "<ipython-input-10-94303580dc78>:7: MatplotlibDeprecationWarning: Auto-removal of overlapping axes is deprecated since 3.6 and will be removed two minor releases later; explicitly call ax.remove() as needed.\n",
            "  ax = plt.subplot(subplot)\n"
          ]
        },
        {
          "output_type": "stream",
          "name": "stdout",
          "text": [
            "155/155 [==============================] - 12s 76ms/step - loss: 0.0254 - accuracy: 0.9927\n",
            "Accuracy: 99.27%\n",
            "Loss:  0.02540498971939087\n",
            "3/3 [==============================] - 0s 65ms/step - loss: 0.2443 - accuracy: 0.9424\n",
            "Accuracy: 94.24%\n",
            "Loss:  0.24426110088825226\n"
          ]
        },
        {
          "output_type": "display_data",
          "data": {
            "text/plain": [
              "<Figure size 640x480 with 1 Axes>"
            ],
            "image/png": "[encoded data removed]"
          },
          "metadata": {}
        },
        {
          "output_type": "display_data",
          "data": {
            "text/plain": [
              "<Figure size 1000x1000 with 1 Axes>"
            ],
            "image/png": "[encoded data removed]"
          },
          "metadata": {}
        }
      ]
    },
    {
      "cell_type": "markdown",
      "source": [
        "**Save the model**"
      ],
      "metadata": {
        "id": "IEsyxWtdqklm"
      }
    },
    {
      "cell_type": "code",
      "source": [
        "!rm -R '/content/model'\n",
        "!mkdir '/content/model'\n",
        "model.save('/content/model')\n",
        "\n",
        "!zip -r model.zip /content/model"
      ],
      "metadata": {
        "colab": {
          "base_uri": "https://localhost:8080/"
        },
        "id": "Nu3c8cHAqj_Q",
        "outputId": "331163b5-dfd6-413d-c7d5-60e9dbf74a7e"
      },
      "execution_count": 11,
      "outputs": [
        {
          "output_type": "stream",
          "name": "stdout",
          "text": [
            "rm: cannot remove '/content/model': No such file or directory\n"
          ]
        },
        {
          "output_type": "stream",
          "name": "stderr",
          "text": [
            "WARNING:absl:Found untraced functions such as _jit_compiled_convolution_op, _jit_compiled_convolution_op, _jit_compiled_convolution_op while saving (showing 3 of 3). These functions will not be directly callable after loading.\n"
          ]
        },
        {
          "output_type": "stream",
          "name": "stdout",
          "text": [
            "  adding: content/model/ (stored 0%)\n",
            "  adding: content/model/assets/ (stored 0%)\n",
            "  adding: content/model/saved_model.pb (deflated 89%)\n",
            "  adding: content/model/variables/ (stored 0%)\n",
            "  adding: content/model/variables/variables.data-00000-of-00001 (deflated 7%)\n",
            "  adding: content/model/variables/variables.index (deflated 60%)\n",
            "  adding: content/model/keras_metadata.pb (deflated 92%)\n",
            "  adding: content/model/fingerprint.pb (stored 0%)\n"
          ]
        }
      ]
    },
    {
      "cell_type": "markdown",
      "source": [
        "**Show labels**"
      ],
      "metadata": {
        "id": "QmoSnrtIxoAi"
      }
    },
    {
      "cell_type": "code",
      "source": [
        "class_names=train_generator.class_indices\n",
        "\n",
        "labels={}\n",
        "for key, value in class_names.items():\n",
        "    labels[value]=key\n",
        "labels"
      ],
      "metadata": {
        "colab": {
          "base_uri": "https://localhost:8080/"
        },
        "id": "HNkBt1O5xqZa",
        "outputId": "f8fe4584-4f67-438a-c02a-97b11c40bc94"
      },
      "execution_count": 12,
      "outputs": [
        {
          "output_type": "execute_result",
          "data": {
            "text/plain": [
              "{0: '0',\n",
              " 1: '1',\n",
              " 2: '2',\n",
              " 3: '3',\n",
              " 4: '4',\n",
              " 5: '5',\n",
              " 6: '6',\n",
              " 7: '7',\n",
              " 8: '8',\n",
              " 9: '9',\n",
              " 10: 'add',\n",
              " 11: 'dec',\n",
              " 12: 'div',\n",
              " 13: 'eq',\n",
              " 14: 'mul',\n",
              " 15: 'sub',\n",
              " 16: 'x',\n",
              " 17: 'y',\n",
              " 18: 'z'}"
            ]
          },
          "metadata": {},
          "execution_count": 12
        }
      ]
    },
    {
      "cell_type": "markdown",
      "source": [
        "**Test the model with random images**"
      ],
      "metadata": {
        "id": "IK7j06wCqpJG"
      }
    },
    {
      "cell_type": "code",
      "source": [
        "import urllib.request  \n",
        "urllib.request.urlretrieve(\"https://jonathanweisberg.org/img/nn_from_scratch/output_13_0.png\", \"0.jpg\")\n",
        "urllib.request.urlretrieve(\"https://encrypted-tbn0.gstatic.com/images?q=tbn:ANd9GcT0_VqvfbesoyV1E911aEdwiS7Njkk9YpAxgA&usqp=CAU\",\"7.png\")\n",
        "urllib.request.urlretrieve(\"https://dab1nmslvvntp.cloudfront.net/wp-content/uploads/2019/10/15713178995.png\",\"5.png\")"
      ],
      "metadata": {
        "colab": {
          "base_uri": "https://localhost:8080/"
        },
        "id": "IQYcvNyCrHhv",
        "outputId": "a66b6906-4617-4cbd-b075-64dac22d0c4d"
      },
      "execution_count": 13,
      "outputs": [
        {
          "output_type": "execute_result",
          "data": {
            "text/plain": [
              "('5.png', <http.client.HTTPMessage at 0x7ff08d1c62b0>)"
            ]
          },
          "metadata": {},
          "execution_count": 13
        }
      ]
    },
    {
      "cell_type": "code",
      "source": [
        "import cv2\n",
        "import numpy as np\n",
        "import tensorflow as tf\n",
        "from google.colab.patches import cv2_imshow\n",
        "\n",
        "reconstructed_model = tf.keras.models.load_model('/content/model/')\n",
        "\n",
        "def GetResultForImage(image_location):\n",
        "  img = cv2.imread(image_location, cv2.IMREAD_GRAYSCALE)\n",
        "  print('Original Dimensions : ',img.shape)\n",
        "  resized = cv2.resize(img,(IMAGE_SIZE,IMAGE_SIZE),1)\n",
        "  result = np.expand_dims(resized, axis=0)\n",
        "  result=reconstructed_model.predict(result)\n",
        "  print(labels[np.argmax(result)])\n",
        "  cv2_imshow(resized)\n",
        "\n",
        "GetResultForImage(\"0.jpg\")"
      ],
      "metadata": {
        "colab": {
          "base_uri": "https://localhost:8080/",
          "height": 121
        },
        "id": "iVPAN4Vyq-88",
        "outputId": "4a5e1b10-843e-4917-e1a6-f2b01e9e2ebf"
      },
      "execution_count": 14,
      "outputs": [
        {
          "output_type": "stream",
          "name": "stdout",
          "text": [
            "Original Dimensions :  (252, 255)\n",
            "1/1 [==============================] - 0s 220ms/step\n",
            "0\n"
          ]
        },
        {
          "output_type": "display_data",
          "data": {
            "text/plain": [
              "<PIL.Image.Image image mode=L size=50x50 at 0x7FF100095250>"
            ],
            "image/png": "[encoded data removed]"
          },
          "metadata": {}
        }
      ]
    },
    {
      "cell_type": "code",
      "source": [
        "GetResultForImage(\"7.png\")"
      ],
      "metadata": {
        "colab": {
          "base_uri": "https://localhost:8080/",
          "height": 121
        },
        "id": "0Is_ICycyDWR",
        "outputId": "f6f52cde-f4bb-4a2c-8def-99971fd6eec6"
      },
      "execution_count": 15,
      "outputs": [
        {
          "output_type": "stream",
          "name": "stdout",
          "text": [
            "Original Dimensions :  (225, 225)\n",
            "1/1 [==============================] - 0s 21ms/step\n",
            "7\n"
          ]
        },
        {
          "output_type": "display_data",
          "data": {
            "text/plain": [
              "<PIL.Image.Image image mode=L size=50x50 at 0x7FF08D22BC40>"
            ],
            "image/png": "[encoded data removed]"
          },
          "metadata": {}
        }
      ]
    },
    {
      "cell_type": "code",
      "source": [
        "GetResultForImage(\"5.png\")"
      ],
      "metadata": {
        "colab": {
          "base_uri": "https://localhost:8080/",
          "height": 121
        },
        "id": "UM4BGLrAzKh1",
        "outputId": "7c1ee3fb-c61c-4423-9720-17b192fb1c6d"
      },
      "execution_count": 16,
      "outputs": [
        {
          "output_type": "stream",
          "name": "stdout",
          "text": [
            "Original Dimensions :  (510, 516)\n",
            "1/1 [==============================] - 0s 36ms/step\n",
            "5\n"
          ]
        },
        {
          "output_type": "display_data",
          "data": {
            "text/plain": [
              "<PIL.Image.Image image mode=L size=50x50 at 0x7FF1001AFA60>"
            ],
            "image/png": "[encoded data removed]"
          },
          "metadata": {}
        }
      ]
    }
  ]
}